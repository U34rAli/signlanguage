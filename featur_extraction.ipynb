{
 "cells": [
  {
   "cell_type": "code",
   "execution_count": 37,
   "metadata": {},
   "outputs": [
    {
     "name": "stdout",
     "output_type": "stream",
     "text": [
      "1.jpg in 1.86 seconds: 1 classes found!\n",
      "10.jpg in 1.75 seconds: 1 classes found!\n",
      "100.jpg in 1.91 seconds: 1 classes found!\n",
      "101.jpg in 1.57 seconds: 1 classes found!\n",
      "102.jpg in 1.73 seconds: 1 classes found!\n",
      "103.jpg in 1.83 seconds: 1 classes found!\n",
      "104.jpg in 1.67 seconds: 1 classes found!\n",
      "105.jpg in 1.64 seconds: 1 classes found!\n",
      "106.jpg in 1.47 seconds: 1 classes found!\n",
      "107.jpg in 1.67 seconds: 1 classes found!\n"
     ]
    }
   ],
   "source": [
    "import argparse\n",
    "import glob\n",
    "import os\n",
    "import cv2\n",
    "import pathlib\n",
    "\n",
    "from yolo import YOLO\n",
    "from pathlib import Path\n",
    "\n",
    "dataset_folder = \"data\"\n",
    "resultfolder = \"abc\"\n",
    "\n",
    "yolo = YOLO(\"models/cross-hands.cfg\", \"models/cross-hands.weights\", [\"hand\"])\n",
    "yolo.size = 640\n",
    "yolo.confidence = 0.40\n",
    "\n",
    "conf_sum = 0\n",
    "detection_count = 0\n",
    "\n",
    "data_dir = pathlib.Path('data/')                 \n",
    "file_paths = list(data_dir.glob('*/*.jpg'))\n",
    "\n",
    "# files\n",
    "for file in file_paths:\n",
    "    \n",
    "    path = Path(file)\n",
    "    path =str(path).split(\"\\\\\")\n",
    "    path = path[-2]+\"\\\\\"+path[-1]\n",
    "    path = os.path.join(resultfolder,  path)\n",
    "    \n",
    "    if not os.path.exists(path):\n",
    "        file = os.path.join(file)\n",
    "        mat = cv2.imread(file)\n",
    "        mat = cv2.resize(mat, (256,256))\n",
    "        width, height, inference_time, results = yolo.inference(mat)\n",
    "\n",
    "        print(\"%s in %s seconds: %s classes found!\" %\n",
    "            (os.path.basename(file), round(inference_time, 2), len(results)))\n",
    "\n",
    "        output = []\n",
    "        for detection in results:\n",
    "            id, name, confidence, x, y, w, h = detection\n",
    "            cx = x + (w / 2)\n",
    "            cy = y + (h / 2)\n",
    "\n",
    "            conf_sum += confidence\n",
    "            detection_count += 1\n",
    "\n",
    "            # draw a bounding box rectangle and label on the image\n",
    "            color = (255, 0, 255)\n",
    "            segment = mat[y:y+h, x:x+w]\n",
    "            \n",
    "            if not os.path.exists(os.path.dirname(path)):\n",
    "                try:\n",
    "                    os.makedirs(os.path.dirname(path))\n",
    "                except: # Guard against race condition\n",
    "                    print(\"folder error\")\n",
    "            try:\n",
    "                segment = cv2.resize(segment, (256,256))\n",
    "                segment = cv2.cvtColor(segment,cv2.COLOR_BGR2GRAY)\n",
    "                cv2.imwrite(path, segment)\n",
    "            except:\n",
    "                pass"
   ]
  }
 ],
 "metadata": {
  "kernelspec": {
   "display_name": "Python 3",
   "language": "python",
   "name": "python3"
  },
  "language_info": {
   "codemirror_mode": {
    "name": "ipython",
    "version": 3
   },
   "file_extension": ".py",
   "mimetype": "text/x-python",
   "name": "python",
   "nbconvert_exporter": "python",
   "pygments_lexer": "ipython3",
   "version": "3.7.6"
  }
 },
 "nbformat": 4,
 "nbformat_minor": 4
}
