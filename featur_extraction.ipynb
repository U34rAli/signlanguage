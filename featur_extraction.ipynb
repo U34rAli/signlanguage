{
 "cells": [
  {
   "cell_type": "code",
   "execution_count": 38,
   "metadata": {},
   "outputs": [
    {
     "name": "stdout",
     "output_type": "stream",
     "text": [
      "1.jpg in 1.86 seconds: 1 classes found!\n",
      "10.jpg in 2.0 seconds: 1 classes found!\n",
      "100.jpg in 1.71 seconds: 1 classes found!\n",
      "101.jpg in 1.73 seconds: 1 classes found!\n",
      "102.jpg in 1.77 seconds: 1 classes found!\n",
      "103.jpg in 1.93 seconds: 1 classes found!\n",
      "104.jpg in 1.78 seconds: 1 classes found!\n",
      "105.jpg in 1.78 seconds: 1 classes found!\n",
      "106.jpg in 2.06 seconds: 1 classes found!\n"
     ]
    },
    {
     "ename": "KeyboardInterrupt",
     "evalue": "",
     "output_type": "error",
     "traceback": [
      "\u001b[1;31m---------------------------------------------------------------------------\u001b[0m",
      "\u001b[1;31mKeyboardInterrupt\u001b[0m                         Traceback (most recent call last)",
      "\u001b[1;32m<ipython-input-38-819befb5d301>\u001b[0m in \u001b[0;36m<module>\u001b[1;34m\u001b[0m\n\u001b[0;32m     33\u001b[0m         \u001b[0mmat\u001b[0m \u001b[1;33m=\u001b[0m \u001b[0mcv2\u001b[0m\u001b[1;33m.\u001b[0m\u001b[0mimread\u001b[0m\u001b[1;33m(\u001b[0m\u001b[0mfile\u001b[0m\u001b[1;33m)\u001b[0m\u001b[1;33m\u001b[0m\u001b[1;33m\u001b[0m\u001b[0m\n\u001b[0;32m     34\u001b[0m         \u001b[0mmat\u001b[0m \u001b[1;33m=\u001b[0m \u001b[0mcv2\u001b[0m\u001b[1;33m.\u001b[0m\u001b[0mresize\u001b[0m\u001b[1;33m(\u001b[0m\u001b[0mmat\u001b[0m\u001b[1;33m,\u001b[0m \u001b[1;33m(\u001b[0m\u001b[1;36m256\u001b[0m\u001b[1;33m,\u001b[0m\u001b[1;36m256\u001b[0m\u001b[1;33m)\u001b[0m\u001b[1;33m)\u001b[0m\u001b[1;33m\u001b[0m\u001b[1;33m\u001b[0m\u001b[0m\n\u001b[1;32m---> 35\u001b[1;33m         \u001b[0mwidth\u001b[0m\u001b[1;33m,\u001b[0m \u001b[0mheight\u001b[0m\u001b[1;33m,\u001b[0m \u001b[0minference_time\u001b[0m\u001b[1;33m,\u001b[0m \u001b[0mresults\u001b[0m \u001b[1;33m=\u001b[0m \u001b[0myolo\u001b[0m\u001b[1;33m.\u001b[0m\u001b[0minference\u001b[0m\u001b[1;33m(\u001b[0m\u001b[0mmat\u001b[0m\u001b[1;33m)\u001b[0m\u001b[1;33m\u001b[0m\u001b[1;33m\u001b[0m\u001b[0m\n\u001b[0m\u001b[0;32m     36\u001b[0m \u001b[1;33m\u001b[0m\u001b[0m\n\u001b[0;32m     37\u001b[0m         print(\"%s in %s seconds: %s classes found!\" %\n",
      "\u001b[1;32mD:\\python\\yolo-hand-detection\\yolo.py\u001b[0m in \u001b[0;36minference\u001b[1;34m(self, image)\u001b[0m\n\u001b[0;32m     28\u001b[0m         \u001b[0mself\u001b[0m\u001b[1;33m.\u001b[0m\u001b[0mnet\u001b[0m\u001b[1;33m.\u001b[0m\u001b[0msetInput\u001b[0m\u001b[1;33m(\u001b[0m\u001b[0mblob\u001b[0m\u001b[1;33m)\u001b[0m\u001b[1;33m\u001b[0m\u001b[1;33m\u001b[0m\u001b[0m\n\u001b[0;32m     29\u001b[0m         \u001b[0mstart\u001b[0m \u001b[1;33m=\u001b[0m \u001b[0mtime\u001b[0m\u001b[1;33m.\u001b[0m\u001b[0mtime\u001b[0m\u001b[1;33m(\u001b[0m\u001b[1;33m)\u001b[0m\u001b[1;33m\u001b[0m\u001b[1;33m\u001b[0m\u001b[0m\n\u001b[1;32m---> 30\u001b[1;33m         \u001b[0mlayerOutputs\u001b[0m \u001b[1;33m=\u001b[0m \u001b[0mself\u001b[0m\u001b[1;33m.\u001b[0m\u001b[0mnet\u001b[0m\u001b[1;33m.\u001b[0m\u001b[0mforward\u001b[0m\u001b[1;33m(\u001b[0m\u001b[0mln\u001b[0m\u001b[1;33m)\u001b[0m\u001b[1;33m\u001b[0m\u001b[1;33m\u001b[0m\u001b[0m\n\u001b[0m\u001b[0;32m     31\u001b[0m         \u001b[0mend\u001b[0m \u001b[1;33m=\u001b[0m \u001b[0mtime\u001b[0m\u001b[1;33m.\u001b[0m\u001b[0mtime\u001b[0m\u001b[1;33m(\u001b[0m\u001b[1;33m)\u001b[0m\u001b[1;33m\u001b[0m\u001b[1;33m\u001b[0m\u001b[0m\n\u001b[0;32m     32\u001b[0m         \u001b[0minference_time\u001b[0m \u001b[1;33m=\u001b[0m \u001b[0mend\u001b[0m \u001b[1;33m-\u001b[0m \u001b[0mstart\u001b[0m\u001b[1;33m\u001b[0m\u001b[1;33m\u001b[0m\u001b[0m\n",
      "\u001b[1;31mKeyboardInterrupt\u001b[0m: "
     ]
    }
   ],
   "source": [
    "import argparse\n",
    "import glob\n",
    "import os\n",
    "import cv2\n",
    "import pathlib\n",
    "\n",
    "from yolo import YOLO\n",
    "from pathlib import Path\n",
    "\n",
    "dataset_folder = \"data\"\n",
    "resultfolder = \"abc\"\n",
    "\n",
    "yolo = YOLO(\"models/cross-hands.cfg\", \"models/cross-hands.weights\", [\"hand\"])\n",
    "yolo.size = 640\n",
    "yolo.confidence = 0.30\n",
    "\n",
    "conf_sum = 0\n",
    "detection_count = 0\n",
    "\n",
    "data_dir = pathlib.Path('data/')                 \n",
    "file_paths = list(data_dir.glob('*/*.jpg'))\n",
    "\n",
    "# files\n",
    "for file in file_paths:\n",
    "    \n",
    "    path = Path(file)\n",
    "    path =str(path).split(\"\\\\\")\n",
    "    path = path[-2]+\"\\\\\"+path[-1]\n",
    "    path = os.path.join(resultfolder,  path)\n",
    "    \n",
    "    if not os.path.exists(path):\n",
    "        file = os.path.join(file)\n",
    "        mat = cv2.imread(file)\n",
    "        mat = cv2.resize(mat, (256,256))\n",
    "        width, height, inference_time, results = yolo.inference(mat)\n",
    "\n",
    "        print(\"%s in %s seconds: %s classes found!\" %\n",
    "            (os.path.basename(file), round(inference_time, 2), len(results)))\n",
    "\n",
    "        output = []\n",
    "        for detection in results:\n",
    "            id, name, confidence, x, y, w, h = detection\n",
    "            cx = x + (w / 2)\n",
    "            cy = y + (h / 2)\n",
    "\n",
    "            conf_sum += confidence\n",
    "            detection_count += 1\n",
    "\n",
    "            # draw a bounding box rectangle and label on the image\n",
    "            color = (255, 0, 255)\n",
    "            segment = mat[y:y+h, x:x+w]\n",
    "            \n",
    "            if not os.path.exists(os.path.dirname(path)):\n",
    "                try:\n",
    "                    os.makedirs(os.path.dirname(path))\n",
    "                except: # Guard against race condition\n",
    "                    print(\"folder error\")\n",
    "            try:\n",
    "                segment = cv2.resize(segment, (256,256))\n",
    "                segment = cv2.cvtColor(segment,cv2.COLOR_BGR2GRAY)\n",
    "                cv2.imwrite(path, segment)\n",
    "            except:\n",
    "                pass"
   ]
  },
  {
   "cell_type": "code",
   "execution_count": null,
   "metadata": {},
   "outputs": [],
   "source": []
  }
 ],
 "metadata": {
  "kernelspec": {
   "display_name": "Python 3",
   "language": "python",
   "name": "python3"
  },
  "language_info": {
   "codemirror_mode": {
    "name": "ipython",
    "version": 3
   },
   "file_extension": ".py",
   "mimetype": "text/x-python",
   "name": "python",
   "nbconvert_exporter": "python",
   "pygments_lexer": "ipython3",
   "version": "3.7.6"
  }
 },
 "nbformat": 4,
 "nbformat_minor": 4
}
